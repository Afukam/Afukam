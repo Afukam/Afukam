{
  "cells": [
    {
      "cell_type": "markdown",
      "id": "1331faa1",
      "metadata": {
        "id": "1331faa1"
      },
      "source": [
        "You can order print and ebook versions of *Think Python 3e* from\n",
        "[Bookshop.org](https://bookshop.org/a/98697/9781098155438) and\n",
        "[Amazon](https://www.amazon.com/_/dp/1098155432?smid=ATVPDKIKX0DER&_encoding=UTF8&tag=oreilly20-20&_encoding=UTF8&tag=greenteapre01-20&linkCode=ur2&linkId=e2a529f94920295d27ec8a06e757dc7c&camp=1789&creative=9325)."
      ]
    },
    {
      "cell_type": "code",
      "execution_count": null,
      "id": "295ac6d7",
      "metadata": {
        "tags": [],
        "id": "295ac6d7"
      },
      "outputs": [],
      "source": [
        "from os.path import basename, exists\n",
        "\n",
        "def download(url):\n",
        "    filename = basename(url)\n",
        "    if not exists(filename):\n",
        "        from urllib.request import urlretrieve\n",
        "\n",
        "        local, _ = urlretrieve(url, filename)\n",
        "        print(\"Downloaded \" + str(local))\n",
        "    return filename\n",
        "\n",
        "download('https://github.com/AllenDowney/ThinkPython/raw/v3/thinkpython.py');\n",
        "download('https://github.com/AllenDowney/ThinkPython/raw/v3/diagram.py');\n",
        "\n",
        "import thinkpython"
      ]
    },
    {
      "cell_type": "markdown",
      "id": "5705b2a6",
      "metadata": {
        "tags": [],
        "id": "5705b2a6"
      },
      "source": [
        "# Tuples\n",
        "\n",
        "This chapter introduces one more built-in type, the tuple, and then shows how lists, dictionaries, and tuples work together.\n",
        "It also presents tuple assignment and a useful feature for functions with variable-length argument lists: the packing and unpacking operators.\n",
        "\n",
        "In the exercises, we'll use tuples, along with lists and dictionaries, to solve more word puzzles and implement efficient algorithms.\n",
        "\n",
        "One note: There are two ways to pronounce \"tuple\".\n",
        "Some people say \"tuh-ple\", which rhymes with \"supple\".\n",
        "But in the context of programming, most people say \"too-ple\", which rhymes with \"quadruple\"."
      ]
    },
    {
      "cell_type": "markdown",
      "id": "19474596",
      "metadata": {
        "id": "19474596"
      },
      "source": [
        "## Tuples are like lists\n",
        "\n",
        "A tuple is a sequence of values. The values can be any type, and they are indexed by integers, so tuples are a lot like lists.\n",
        "The important difference is that tuples are immutable.\n",
        "\n",
        "To create a tuple, you can write a comma-separated list of values."
      ]
    },
    {
      "cell_type": "code",
      "execution_count": null,
      "id": "fb0bdca2",
      "metadata": {
        "id": "fb0bdca2"
      },
      "outputs": [],
      "source": [
        "t = 'l', 'u', 'p', 'i', 'n'\n",
        "type(t)"
      ]
    },
    {
      "cell_type": "markdown",
      "id": "a2ec15d8",
      "metadata": {
        "id": "a2ec15d8"
      },
      "source": [
        "Although it is not necessary, it is common to enclose tuples in parentheses."
      ]
    },
    {
      "cell_type": "code",
      "execution_count": null,
      "id": "5a6da881",
      "metadata": {
        "id": "5a6da881"
      },
      "outputs": [],
      "source": [
        "t = ('l', 'u', 'p', 'i', 'n')\n",
        "type(t)"
      ]
    },
    {
      "cell_type": "markdown",
      "id": "9194a159",
      "metadata": {
        "id": "9194a159"
      },
      "source": [
        "To create a tuple with a single element, you have to include a final comma."
      ]
    },
    {
      "cell_type": "code",
      "execution_count": null,
      "id": "e2596ca7",
      "metadata": {
        "id": "e2596ca7"
      },
      "outputs": [],
      "source": [
        "t1 = 'p',\n",
        "type(t1)"
      ]
    },
    {
      "cell_type": "markdown",
      "id": "e39b95a5",
      "metadata": {
        "id": "e39b95a5"
      },
      "source": [
        "A single value in parentheses is not a tuple."
      ]
    },
    {
      "cell_type": "code",
      "execution_count": null,
      "id": "a0d350a6",
      "metadata": {
        "id": "a0d350a6"
      },
      "outputs": [],
      "source": [
        "t2 = ('p')\n",
        "type(t2)"
      ]
    },
    {
      "cell_type": "markdown",
      "id": "a64bfb64",
      "metadata": {
        "id": "a64bfb64"
      },
      "source": [
        "Another way to create a tuple is the built-in function `tuple`. With no\n",
        "argument, it creates an empty tuple."
      ]
    },
    {
      "cell_type": "code",
      "execution_count": null,
      "id": "c9100ee4",
      "metadata": {
        "id": "c9100ee4"
      },
      "outputs": [],
      "source": [
        "t = tuple()\n",
        "t"
      ]
    },
    {
      "cell_type": "markdown",
      "id": "f3447831",
      "metadata": {
        "id": "f3447831"
      },
      "source": [
        "If the argument is a sequence (string, list or tuple), the result is a\n",
        "tuple with the elements of the sequence."
      ]
    },
    {
      "cell_type": "code",
      "execution_count": null,
      "id": "44bd3d83",
      "metadata": {
        "id": "44bd3d83"
      },
      "outputs": [],
      "source": [
        "t = tuple('lupin')\n",
        "t"
      ]
    },
    {
      "cell_type": "markdown",
      "id": "2e48b980",
      "metadata": {
        "id": "2e48b980"
      },
      "source": [
        "Because `tuple` is the name of a built-in function, you should avoid using it as a variable name.\n",
        "\n",
        "Most list operators also work with tuples.\n",
        "For example, the bracket operator indexes an element."
      ]
    },
    {
      "cell_type": "code",
      "execution_count": null,
      "id": "92e55b2c",
      "metadata": {
        "id": "92e55b2c"
      },
      "outputs": [],
      "source": [
        "t[0]"
      ]
    },
    {
      "cell_type": "markdown",
      "id": "2f702785",
      "metadata": {
        "id": "2f702785"
      },
      "source": [
        "And the slice operator selects a range of elements."
      ]
    },
    {
      "cell_type": "code",
      "execution_count": null,
      "id": "38ee5c2a",
      "metadata": {
        "id": "38ee5c2a"
      },
      "outputs": [],
      "source": [
        "t[1:3]"
      ]
    },
    {
      "cell_type": "markdown",
      "id": "c9ed9af2",
      "metadata": {
        "id": "c9ed9af2"
      },
      "source": [
        "The `+` operator concatenates tuples."
      ]
    },
    {
      "cell_type": "code",
      "execution_count": null,
      "id": "2e0e311a",
      "metadata": {
        "id": "2e0e311a"
      },
      "outputs": [],
      "source": [
        "tuple('lup') + ('i', 'n')"
      ]
    },
    {
      "cell_type": "markdown",
      "id": "1d7dcd6d",
      "metadata": {
        "id": "1d7dcd6d"
      },
      "source": [
        "And the `*` operator duplicates a tuple a given number of times."
      ]
    },
    {
      "cell_type": "code",
      "execution_count": null,
      "id": "8bb7d715",
      "metadata": {
        "id": "8bb7d715"
      },
      "outputs": [],
      "source": [
        "tuple('spam') * 2"
      ]
    },
    {
      "cell_type": "markdown",
      "id": "a53ce8bd",
      "metadata": {
        "id": "a53ce8bd"
      },
      "source": [
        "The `sorted` function works with tuples -- but the result is a list, not a tuple."
      ]
    },
    {
      "cell_type": "code",
      "execution_count": null,
      "id": "e653e00f",
      "metadata": {
        "id": "e653e00f"
      },
      "outputs": [],
      "source": [
        "sorted(t)"
      ]
    },
    {
      "cell_type": "markdown",
      "id": "50e5cadc",
      "metadata": {
        "id": "50e5cadc"
      },
      "source": [
        "The `reversed` function also works with tuples."
      ]
    },
    {
      "cell_type": "code",
      "execution_count": null,
      "id": "8969188d",
      "metadata": {
        "id": "8969188d"
      },
      "outputs": [],
      "source": [
        "reversed(t)"
      ]
    },
    {
      "cell_type": "markdown",
      "id": "f6d973c5",
      "metadata": {
        "id": "f6d973c5"
      },
      "source": [
        "The result is a `reversed` object, which we can convert to a list or tuple."
      ]
    },
    {
      "cell_type": "code",
      "execution_count": null,
      "id": "65d7ebaa",
      "metadata": {
        "id": "65d7ebaa"
      },
      "outputs": [],
      "source": [
        "tuple(reversed(t))"
      ]
    },
    {
      "cell_type": "markdown",
      "id": "a7cb9ee6",
      "metadata": {
        "id": "a7cb9ee6"
      },
      "source": [
        "Based on the examples so far, it might seem like tuples are the same as lists."
      ]
    },
    {
      "cell_type": "markdown",
      "id": "8c3f381e",
      "metadata": {
        "id": "8c3f381e"
      },
      "source": [
        "## But tuples are immutable\n",
        "\n",
        "If you try to modify a tuple with the bracket operator, you get a `TypeError`."
      ]
    },
    {
      "cell_type": "code",
      "execution_count": null,
      "id": "b4970fe0",
      "metadata": {
        "tags": [],
        "id": "b4970fe0"
      },
      "outputs": [],
      "source": [
        "%%expect TypeError\n",
        "t[0] = 'L'"
      ]
    },
    {
      "cell_type": "markdown",
      "id": "592ce99c",
      "metadata": {
        "id": "592ce99c"
      },
      "source": [
        "And tuples don't have any of the methods that modify lists, like `append` and `remove`."
      ]
    },
    {
      "cell_type": "code",
      "execution_count": null,
      "id": "772738cc",
      "metadata": {
        "tags": [],
        "id": "772738cc"
      },
      "outputs": [],
      "source": [
        "%%expect AttributeError\n",
        "\n",
        "t.remove('l')"
      ]
    },
    {
      "cell_type": "markdown",
      "id": "70772ba2",
      "metadata": {
        "id": "70772ba2"
      },
      "source": [
        "Recall that an \"attribute\" is a variable or method associated with an object -- this error message means that tuples don't have a method named `remove`.\n",
        "\n",
        "Because tuples are immutable, they are hashable, which means they can be used as keys in a dictionary.\n",
        "For example, the following dictionary contains two tuples as keys that map to integers."
      ]
    },
    {
      "cell_type": "code",
      "execution_count": null,
      "id": "37e67042",
      "metadata": {
        "id": "37e67042"
      },
      "outputs": [],
      "source": [
        "d = {}\n",
        "d[1, 2] = 3\n",
        "d[3, 4] = 7"
      ]
    },
    {
      "cell_type": "markdown",
      "id": "47ba17ab",
      "metadata": {
        "id": "47ba17ab"
      },
      "source": [
        "We can look up a tuple in a dictionary like this:"
      ]
    },
    {
      "cell_type": "code",
      "execution_count": null,
      "id": "d809a490",
      "metadata": {
        "id": "d809a490"
      },
      "outputs": [],
      "source": [
        "d[1, 2]"
      ]
    },
    {
      "cell_type": "markdown",
      "id": "f2c0a354",
      "metadata": {
        "id": "f2c0a354"
      },
      "source": [
        "Or if we have a variable that refers to a tuple, we can use it as a key."
      ]
    },
    {
      "cell_type": "code",
      "execution_count": null,
      "id": "dfc42a8b",
      "metadata": {
        "id": "dfc42a8b"
      },
      "outputs": [],
      "source": [
        "t = (3, 4)\n",
        "d[t]"
      ]
    },
    {
      "cell_type": "markdown",
      "id": "2ea8fc3c",
      "metadata": {
        "id": "2ea8fc3c"
      },
      "source": [
        "Tuples can also appear as values in a dictionary."
      ]
    },
    {
      "cell_type": "code",
      "execution_count": null,
      "id": "2debf30c",
      "metadata": {
        "id": "2debf30c"
      },
      "outputs": [],
      "source": [
        "t = tuple('abc')\n",
        "d = {'key': t}\n",
        "d"
      ]
    },
    {
      "cell_type": "markdown",
      "id": "25655ab3",
      "metadata": {
        "id": "25655ab3"
      },
      "source": [
        "## Tuple assignment\n",
        "\n",
        "You can put a tuple of variables on the left side of an assignment, and a tuple of values on the right."
      ]
    },
    {
      "cell_type": "code",
      "execution_count": null,
      "id": "1e94ea37",
      "metadata": {
        "id": "1e94ea37"
      },
      "outputs": [],
      "source": [
        "a, b = 1, 2"
      ]
    },
    {
      "cell_type": "markdown",
      "id": "92c00ceb",
      "metadata": {
        "id": "92c00ceb"
      },
      "source": [
        "The values are assigned to the variables from left to right -- in this example, `a` gets the value `1` and `b` gets the value `2`.\n",
        "We can display the results like this:"
      ]
    },
    {
      "cell_type": "code",
      "execution_count": null,
      "id": "99c96c7f",
      "metadata": {
        "id": "99c96c7f"
      },
      "outputs": [],
      "source": [
        "a, b"
      ]
    },
    {
      "cell_type": "markdown",
      "id": "6362b36e",
      "metadata": {
        "id": "6362b36e"
      },
      "source": [
        "More generally, if the left side of an assignment is a tuple, the right side can be any kind of sequence -- string, list or tuple.\n",
        "For example, to split an email address into a user name and a domain, you could write:"
      ]
    },
    {
      "cell_type": "code",
      "execution_count": null,
      "id": "b67881ed",
      "metadata": {
        "id": "b67881ed"
      },
      "outputs": [],
      "source": [
        "email = 'monty@python.org'\n",
        "username, domain = email.split('@')"
      ]
    },
    {
      "cell_type": "markdown",
      "id": "d134a94c",
      "metadata": {
        "id": "d134a94c"
      },
      "source": [
        "The return value from `split` is a list with two elements -- the first element is assigned to `username`, the second to `domain`."
      ]
    },
    {
      "cell_type": "code",
      "execution_count": null,
      "id": "b4515e2b",
      "metadata": {
        "id": "b4515e2b"
      },
      "outputs": [],
      "source": [
        "username, domain"
      ]
    },
    {
      "cell_type": "markdown",
      "id": "5a7e3c62",
      "metadata": {
        "id": "5a7e3c62"
      },
      "source": [
        "The number of variables on the left and the number of values on the\n",
        "right have to be the same -- otherwise you get a `ValueError`."
      ]
    },
    {
      "cell_type": "code",
      "execution_count": null,
      "id": "8e5b4a14",
      "metadata": {
        "tags": [],
        "id": "8e5b4a14"
      },
      "outputs": [],
      "source": [
        "%%expect ValueError\n",
        "a, b = 1, 2, 3"
      ]
    },
    {
      "cell_type": "markdown",
      "id": "808c2928",
      "metadata": {
        "id": "808c2928"
      },
      "source": [
        "Tuple assignment is useful if you want to swap the values of two variables.\n",
        "With conventional assignments, you have to use a temporary variable, like this:"
      ]
    },
    {
      "cell_type": "code",
      "execution_count": null,
      "id": "2389d6de",
      "metadata": {
        "id": "2389d6de"
      },
      "outputs": [],
      "source": [
        "temp = a\n",
        "a = b\n",
        "b = temp"
      ]
    },
    {
      "cell_type": "markdown",
      "id": "98496d02",
      "metadata": {
        "id": "98496d02"
      },
      "source": [
        "That works, but with tuple assignment we can do the same thing without a temporary variable."
      ]
    },
    {
      "cell_type": "code",
      "execution_count": null,
      "id": "5512edec",
      "metadata": {
        "id": "5512edec"
      },
      "outputs": [],
      "source": [
        "a, b = b, a"
      ]
    },
    {
      "cell_type": "markdown",
      "id": "a66a87bc",
      "metadata": {
        "id": "a66a87bc"
      },
      "source": [
        "This works because all of the expressions on the right side are evaluated before any of the assignments.\n",
        "\n",
        "We can also use tuple assignment in a `for` statement.\n",
        "For example, to loop through the items in a dictionary, we can use the `items` method."
      ]
    },
    {
      "cell_type": "code",
      "execution_count": null,
      "id": "651ab417",
      "metadata": {
        "id": "651ab417"
      },
      "outputs": [],
      "source": [
        "d = {'one': 1, 'two': 2}\n",
        "\n",
        "for item in d.items():\n",
        "    key, value = item\n",
        "    print(key, '->', value)"
      ]
    },
    {
      "cell_type": "markdown",
      "id": "dd0d4feb",
      "metadata": {
        "id": "dd0d4feb"
      },
      "source": [
        "Each time through the loop, `item` is assigned a tuple that contains a key and the corresponding value.\n",
        "\n",
        "We can write this loop more concisely, like this:"
      ]
    },
    {
      "cell_type": "code",
      "execution_count": null,
      "id": "2c0b7d47",
      "metadata": {
        "id": "2c0b7d47"
      },
      "outputs": [],
      "source": [
        "for key, value in d.items():\n",
        "    print(key, '->', value)"
      ]
    },
    {
      "cell_type": "markdown",
      "id": "f0513578",
      "metadata": {
        "id": "f0513578"
      },
      "source": [
        "Each time through the loop, a key and the corresponding value are assigned directly to `key` and `value`."
      ]
    },
    {
      "cell_type": "markdown",
      "id": "efedeb37",
      "metadata": {
        "id": "efedeb37"
      },
      "source": [
        "## Tuples as return values\n",
        "\n",
        "Strictly speaking, a function can only return one value, but if the\n",
        "value is a tuple, the effect is the same as returning multiple values.\n",
        "For example, if you want to divide two integers and compute the quotient\n",
        "and remainder, it is inefficient to compute `x//y` and then `x%y`. It is\n",
        "better to compute them both at the same time.\n",
        "\n",
        "The built-in function `divmod` takes two arguments and returns a tuple\n",
        "of two values, the quotient and remainder."
      ]
    },
    {
      "cell_type": "code",
      "execution_count": null,
      "id": "fff80eaa",
      "metadata": {
        "id": "fff80eaa"
      },
      "outputs": [],
      "source": [
        "divmod(7, 3)"
      ]
    },
    {
      "cell_type": "markdown",
      "id": "33f3c57d",
      "metadata": {
        "id": "33f3c57d"
      },
      "source": [
        "We can use tuple assignment to store the elements of the tuple in two variables."
      ]
    },
    {
      "cell_type": "code",
      "execution_count": null,
      "id": "4a0eb2a9",
      "metadata": {
        "id": "4a0eb2a9"
      },
      "outputs": [],
      "source": [
        "quotient, remainder = divmod(7, 3)\n",
        "quotient"
      ]
    },
    {
      "cell_type": "code",
      "execution_count": null,
      "id": "d74ba1b6",
      "metadata": {
        "id": "d74ba1b6"
      },
      "outputs": [],
      "source": [
        "remainder"
      ]
    },
    {
      "cell_type": "markdown",
      "id": "15079805",
      "metadata": {
        "id": "15079805"
      },
      "source": [
        "Here is an example of a function that returns a tuple."
      ]
    },
    {
      "cell_type": "code",
      "execution_count": null,
      "id": "dad3b3bb",
      "metadata": {
        "id": "dad3b3bb"
      },
      "outputs": [],
      "source": [
        "def min_max(t):\n",
        "    return min(t), max(t)"
      ]
    },
    {
      "cell_type": "markdown",
      "id": "43c4e1e0",
      "metadata": {
        "id": "43c4e1e0"
      },
      "source": [
        "`max` and `min` are built-in functions that find the largest and smallest elements of a sequence.\n",
        "`min_max` computes both and returns a tuple of two values."
      ]
    },
    {
      "cell_type": "code",
      "execution_count": null,
      "id": "fbd90b0e",
      "metadata": {
        "id": "fbd90b0e"
      },
      "outputs": [],
      "source": [
        "min_max([2, 4, 1, 3])"
      ]
    },
    {
      "cell_type": "markdown",
      "id": "86b60e71",
      "metadata": {
        "id": "86b60e71"
      },
      "source": [
        "We can assign the results to variables like this:"
      ]
    },
    {
      "cell_type": "code",
      "execution_count": null,
      "id": "5a101efb",
      "metadata": {
        "id": "5a101efb"
      },
      "outputs": [],
      "source": [
        "low, high = min_max([2, 4, 1, 3])\n",
        "low, high"
      ]
    },
    {
      "cell_type": "markdown",
      "id": "112b5aa2",
      "metadata": {
        "tags": [],
        "id": "112b5aa2"
      },
      "source": [
        "## Argument packing\n",
        "\n",
        "Functions can take a variable number of arguments.\n",
        "A parameter name that begins with the `*` operator **packs** arguments into a tuple.\n",
        "For example, the following function takes any number of arguments and computes their arithmetic mean -- that is, their sum divided by the number of arguments."
      ]
    },
    {
      "cell_type": "code",
      "execution_count": null,
      "id": "0a33e2d0",
      "metadata": {
        "id": "0a33e2d0"
      },
      "outputs": [],
      "source": [
        "def mean(*args):\n",
        "    return sum(args) / len(args)"
      ]
    },
    {
      "cell_type": "markdown",
      "id": "6044fc1b",
      "metadata": {
        "id": "6044fc1b"
      },
      "source": [
        "The parameter can have any name you like, but `args` is conventional.\n",
        "We can call the function like this:"
      ]
    },
    {
      "cell_type": "code",
      "execution_count": null,
      "id": "336a08ca",
      "metadata": {
        "id": "336a08ca"
      },
      "outputs": [],
      "source": [
        "mean(1, 2, 3)"
      ]
    },
    {
      "cell_type": "markdown",
      "id": "a5e8b158",
      "metadata": {
        "id": "a5e8b158"
      },
      "source": [
        "If you have a sequence of values and you want to pass them to a function as multiple arguments, you can use the `*` operator to **unpack** the tuple.\n",
        "For example, `divmod` takes exactly two arguments -- if you pass a tuple as a parameter, you get an error."
      ]
    },
    {
      "cell_type": "code",
      "execution_count": null,
      "id": "991810bc",
      "metadata": {
        "tags": [],
        "id": "991810bc"
      },
      "outputs": [],
      "source": [
        "%%expect TypeError\n",
        "t = (7, 3)\n",
        "divmod(t)"
      ]
    },
    {
      "cell_type": "markdown",
      "id": "5a9110db",
      "metadata": {
        "id": "5a9110db"
      },
      "source": [
        "Even though the tuple contains two elements, it counts as a single argument.\n",
        "But if you unpack the tuple, it is treated as two arguments."
      ]
    },
    {
      "cell_type": "code",
      "execution_count": null,
      "id": "f25ebee1",
      "metadata": {
        "id": "f25ebee1"
      },
      "outputs": [],
      "source": [
        "divmod(*t)"
      ]
    },
    {
      "cell_type": "markdown",
      "id": "da554863",
      "metadata": {
        "id": "da554863"
      },
      "source": [
        "Packing and unpacking can be useful if you want to adapt the behavior of an existing function.\n",
        "For example, this function takes any number of arguments, removes the lowest and highest, and computes the mean of the rest."
      ]
    },
    {
      "cell_type": "code",
      "execution_count": null,
      "id": "7ad64412",
      "metadata": {
        "id": "7ad64412"
      },
      "outputs": [],
      "source": [
        "def trimmed_mean(*args):\n",
        "    low, high = min_max(args)\n",
        "    trimmed = list(args)\n",
        "    trimmed.remove(low)\n",
        "    trimmed.remove(high)\n",
        "    return mean(*trimmed)"
      ]
    },
    {
      "cell_type": "markdown",
      "id": "d1e05e49",
      "metadata": {
        "id": "d1e05e49"
      },
      "source": [
        "First it uses `min_max` to find the lowest and highest elements.\n",
        "Then it converts `args` to a list so it can use the `remove` method.\n",
        "Finally it unpacks the list so the elements are passed to `mean` as separate arguments, rather than as a single list.\n",
        "\n",
        "Here's an example that shows the effect."
      ]
    },
    {
      "cell_type": "code",
      "execution_count": null,
      "id": "b2863701",
      "metadata": {
        "id": "b2863701"
      },
      "outputs": [],
      "source": [
        "mean(1, 2, 3, 10)"
      ]
    },
    {
      "cell_type": "code",
      "execution_count": null,
      "id": "cc1afa29",
      "metadata": {
        "id": "cc1afa29"
      },
      "outputs": [],
      "source": [
        "trimmed_mean(1, 2, 3, 10)"
      ]
    },
    {
      "cell_type": "markdown",
      "id": "35e04996",
      "metadata": {
        "id": "35e04996"
      },
      "source": [
        "This kind of \"trimmed\" mean is used in some sports with subjective judging -- like diving and gymnastics -- to reduce the effect of a judge whose score deviates from the others."
      ]
    },
    {
      "cell_type": "markdown",
      "id": "c4572cd2",
      "metadata": {
        "id": "c4572cd2"
      },
      "source": [
        "## Zip\n",
        "\n",
        "Tuples are useful for looping through the elements of two sequences and performing operations on corresponding elements.\n",
        "For example, suppose two teams play a series of seven games, and we record their scores in two lists, one for each team."
      ]
    },
    {
      "cell_type": "code",
      "execution_count": null,
      "id": "ad3e6f81",
      "metadata": {
        "id": "ad3e6f81"
      },
      "outputs": [],
      "source": [
        "scores1 = [1, 2, 4, 5, 1, 5, 2]\n",
        "scores2 = [5, 5, 2, 2, 5, 2, 3]"
      ]
    },
    {
      "cell_type": "markdown",
      "id": "b44f228b",
      "metadata": {
        "id": "b44f228b"
      },
      "source": [
        "Let's see how many games each team won.\n",
        "We'll use `zip`, which is a built-in function that takes two or more sequences and returns a **zip object**, so-called because it pairs up the elements of the sequences like the teeth of a zipper."
      ]
    },
    {
      "cell_type": "code",
      "execution_count": null,
      "id": "9ce313ce",
      "metadata": {
        "id": "9ce313ce"
      },
      "outputs": [],
      "source": [
        "zip(scores1, scores2)"
      ]
    },
    {
      "cell_type": "markdown",
      "id": "9adcf8f9",
      "metadata": {
        "id": "9adcf8f9"
      },
      "source": [
        "We can use the zip object to loop through the values in the sequences pairwise."
      ]
    },
    {
      "cell_type": "code",
      "execution_count": null,
      "id": "321d9c30",
      "metadata": {
        "id": "321d9c30"
      },
      "outputs": [],
      "source": [
        "for pair in zip(scores1, scores2):\n",
        "     print(pair)"
      ]
    },
    {
      "cell_type": "markdown",
      "id": "51d1dabb",
      "metadata": {
        "id": "51d1dabb"
      },
      "source": [
        "Each time through the loop, `pair` gets assigned a tuple of scores.\n",
        "So we can assign the scores to variables, and count the victories for the first team, like this:"
      ]
    },
    {
      "cell_type": "code",
      "execution_count": null,
      "id": "7eb73d5d",
      "metadata": {
        "id": "7eb73d5d"
      },
      "outputs": [],
      "source": [
        "wins = 0\n",
        "for team1, team2 in zip(scores1, scores2):\n",
        "    if team1 > team2:\n",
        "        wins += 1\n",
        "\n",
        "wins"
      ]
    },
    {
      "cell_type": "markdown",
      "id": "ad740fcd",
      "metadata": {
        "id": "ad740fcd"
      },
      "source": [
        "Sadly, the first team won only three games and lost the series.\n",
        "\n",
        "If you have two lists and you want a list of pairs, you can use `zip` and `list`."
      ]
    },
    {
      "cell_type": "code",
      "execution_count": null,
      "id": "9529baa8",
      "metadata": {
        "id": "9529baa8"
      },
      "outputs": [],
      "source": [
        "t = list(zip(scores1, scores2))\n",
        "t"
      ]
    },
    {
      "cell_type": "markdown",
      "id": "ec4249fa",
      "metadata": {
        "id": "ec4249fa"
      },
      "source": [
        "The result is a list of tuples, so we can get the result of the last game like this:"
      ]
    },
    {
      "cell_type": "code",
      "execution_count": null,
      "id": "dbde77b8",
      "metadata": {
        "id": "dbde77b8"
      },
      "outputs": [],
      "source": [
        "t[-1]"
      ]
    },
    {
      "cell_type": "markdown",
      "id": "436486b9",
      "metadata": {
        "id": "436486b9"
      },
      "source": [
        "If you have a list of keys and a list of values, you can use `zip` and `dict` to make a dictionary.\n",
        "For example, here's how we can make a dictionary that maps from each letter to its position in the alphabet."
      ]
    },
    {
      "cell_type": "code",
      "execution_count": null,
      "id": "dbb7d0b3",
      "metadata": {
        "id": "dbb7d0b3"
      },
      "outputs": [],
      "source": [
        "letters = 'abcdefghijklmnopqrstuvwxyz'\n",
        "numbers = range(len(letters))\n",
        "letter_map = dict(zip(letters, numbers))"
      ]
    },
    {
      "cell_type": "markdown",
      "id": "b4de6974",
      "metadata": {
        "id": "b4de6974"
      },
      "source": [
        "Now we can look up a letter and get its index in the alphabet."
      ]
    },
    {
      "cell_type": "code",
      "execution_count": null,
      "id": "49e3fd8e",
      "metadata": {
        "id": "49e3fd8e"
      },
      "outputs": [],
      "source": [
        "letter_map['a'], letter_map['z']"
      ]
    },
    {
      "cell_type": "markdown",
      "id": "cc632542",
      "metadata": {
        "id": "cc632542"
      },
      "source": [
        "In this mapping, the index of `'a'` is `0` and the index of `'z'` is `25`.\n",
        "\n",
        "If you need to loop through the elements of a sequence and their indices, you can use the built-in function `enumerate`."
      ]
    },
    {
      "cell_type": "code",
      "execution_count": null,
      "id": "9e4f3e51",
      "metadata": {
        "id": "9e4f3e51"
      },
      "outputs": [],
      "source": [
        "enumerate('abc')"
      ]
    },
    {
      "cell_type": "markdown",
      "id": "92ad45bb",
      "metadata": {
        "id": "92ad45bb"
      },
      "source": [
        "The result is an **enumerate object** that loops through a sequence of pairs, where each pair contains an index (starting from 0) and an element from the given sequence."
      ]
    },
    {
      "cell_type": "code",
      "execution_count": null,
      "id": "c1dcb46d",
      "metadata": {
        "id": "c1dcb46d"
      },
      "outputs": [],
      "source": [
        "for index, element in enumerate('abc'):\n",
        "    print(index, element)"
      ]
    },
    {
      "cell_type": "markdown",
      "id": "cf0b55d7",
      "metadata": {
        "id": "cf0b55d7"
      },
      "source": [
        "## Comparing and Sorting\n",
        "\n",
        "The relational operators work with tuples and other sequences.\n",
        "For example, if you use the `<` operator with tuples, it starts by comparing the first element from each sequence.\n",
        "If they are equal, it goes on to the next pair of elements, and so on, until it finds a pair that differ."
      ]
    },
    {
      "cell_type": "code",
      "execution_count": null,
      "id": "aed20c28",
      "metadata": {
        "id": "aed20c28"
      },
      "outputs": [],
      "source": [
        "(0, 1, 2) < (0, 3, 4)"
      ]
    },
    {
      "cell_type": "markdown",
      "id": "65ceea86",
      "metadata": {
        "id": "65ceea86"
      },
      "source": [
        "Subsequent elements are not considered -- even if they are really big."
      ]
    },
    {
      "cell_type": "code",
      "execution_count": null,
      "id": "4d9e73b3",
      "metadata": {
        "id": "4d9e73b3"
      },
      "outputs": [],
      "source": [
        "(0, 1, 2000000) < (0, 3, 4)"
      ]
    },
    {
      "cell_type": "markdown",
      "id": "55e4a35e",
      "metadata": {
        "id": "55e4a35e"
      },
      "source": [
        "This way of comparing tuples is useful for sorting a list of tuples, or finding the minimum or maximum.\n",
        "As an example, let's find the most common letter in a word.\n",
        "In the previous chapter, we wrote `value_counts`, which takes a string and returns a dictionary that maps from each letter to the number of times it appears."
      ]
    },
    {
      "cell_type": "code",
      "execution_count": null,
      "id": "2077dfa9",
      "metadata": {
        "id": "2077dfa9"
      },
      "outputs": [],
      "source": [
        "def value_counts(string):\n",
        "    counter = {}\n",
        "    for letter in string:\n",
        "        if letter not in counter:\n",
        "            counter[letter] = 1\n",
        "        else:\n",
        "            counter[letter] += 1\n",
        "    return counter"
      ]
    },
    {
      "cell_type": "markdown",
      "id": "a80012c1",
      "metadata": {
        "id": "a80012c1"
      },
      "source": [
        "Here is the result for the string `'banana'`."
      ]
    },
    {
      "cell_type": "code",
      "execution_count": null,
      "id": "b3d40516",
      "metadata": {
        "id": "b3d40516"
      },
      "outputs": [],
      "source": [
        "counter = value_counts('banana')\n",
        "counter"
      ]
    },
    {
      "cell_type": "markdown",
      "id": "cc1ea4a7",
      "metadata": {
        "id": "cc1ea4a7"
      },
      "source": [
        "With only three items, we can easily see that the most frequent letter is `'a'`, which appears three times.\n",
        "But if there were more items, it would be useful to sort them automatically.\n",
        "\n",
        "We can get the items from `counter` like this."
      ]
    },
    {
      "cell_type": "code",
      "execution_count": null,
      "id": "8288c28f",
      "metadata": {
        "id": "8288c28f"
      },
      "outputs": [],
      "source": [
        "items = counter.items()\n",
        "items"
      ]
    },
    {
      "cell_type": "markdown",
      "id": "ac8dea7a",
      "metadata": {
        "id": "ac8dea7a"
      },
      "source": [
        "The result is a `dict_items` object that behaves like a list of tuples, so we can sort it like this."
      ]
    },
    {
      "cell_type": "code",
      "execution_count": null,
      "id": "bbbade35",
      "metadata": {
        "id": "bbbade35"
      },
      "outputs": [],
      "source": [
        "sorted(items)"
      ]
    },
    {
      "cell_type": "markdown",
      "id": "b690d17a",
      "metadata": {
        "id": "b690d17a"
      },
      "source": [
        "The default behavior is to use the first element from each tuple to sort the list, and use the second element to break ties.\n",
        "\n",
        "However, to find the items with the highest counts, we want to use the second element to sort the list.\n",
        "We can do that by writing a function that takes a tuple and returns the second element."
      ]
    },
    {
      "cell_type": "code",
      "execution_count": null,
      "id": "a4c31795",
      "metadata": {
        "id": "a4c31795"
      },
      "outputs": [],
      "source": [
        "def second_element(t):\n",
        "    return t[1]"
      ]
    },
    {
      "cell_type": "markdown",
      "id": "b964aa14",
      "metadata": {
        "id": "b964aa14"
      },
      "source": [
        "Then we can pass that function to `sorted` as an optional argument called `key`, which indicates that this function should be used to compute the **sort key** for each item."
      ]
    },
    {
      "cell_type": "code",
      "execution_count": null,
      "id": "f3d3619a",
      "metadata": {
        "id": "f3d3619a"
      },
      "outputs": [],
      "source": [
        "sorted_items = sorted(items, key=second_element)\n",
        "sorted_items"
      ]
    },
    {
      "cell_type": "markdown",
      "id": "4dc96848",
      "metadata": {
        "id": "4dc96848"
      },
      "source": [
        "The sort key determines the order of the items in the list.\n",
        "The letter with the lowest count appears first, and the letter with the highest count appears last.\n",
        "So we can find the most common letter like this."
      ]
    },
    {
      "cell_type": "code",
      "execution_count": null,
      "id": "f078c8a6",
      "metadata": {
        "id": "f078c8a6"
      },
      "outputs": [],
      "source": [
        "sorted_items[-1]"
      ]
    },
    {
      "cell_type": "markdown",
      "id": "d0d8b999",
      "metadata": {
        "id": "d0d8b999"
      },
      "source": [
        "If we only want the maximum, we don't have to sort the list.\n",
        "We can use `max`, which also takes `key` as an optional argument."
      ]
    },
    {
      "cell_type": "code",
      "execution_count": null,
      "id": "54030d8f",
      "metadata": {
        "id": "54030d8f"
      },
      "outputs": [],
      "source": [
        "max(items, key=second_element)"
      ]
    },
    {
      "cell_type": "markdown",
      "id": "8a8327df",
      "metadata": {
        "id": "8a8327df"
      },
      "source": [
        "To find the letter with the lowest count, we could use `min` the same way."
      ]
    },
    {
      "cell_type": "markdown",
      "id": "a62394a5",
      "metadata": {
        "id": "a62394a5"
      },
      "source": [
        "## Inverting a dictionary\n",
        "\n",
        "Suppose you want to invert a dictionary so you can look up a value and get the corresponding key.\n",
        "For example, if you have a word counter that maps from each word to the number of times it appears, you could make a dictionary that maps from integers to the words that appear that number of times.\n",
        "\n",
        "But there's a problem -- the keys in a dictionary have to be unique, but the values don't. For example, in a word counter, there could be many words with the same count.\n",
        "\n",
        "So one way to invert a dictionary is to create a new dictionary where the values are lists of keys from the original.\n",
        "As an example, let's count the letters in `parrot`."
      ]
    },
    {
      "cell_type": "code",
      "execution_count": null,
      "id": "ef158f81",
      "metadata": {
        "id": "ef158f81"
      },
      "outputs": [],
      "source": [
        "d =  value_counts('parrot')\n",
        "d"
      ]
    },
    {
      "cell_type": "markdown",
      "id": "f4570eae",
      "metadata": {
        "id": "f4570eae"
      },
      "source": [
        "If we invert this dictionary, the result should be `{1: ['p', 'a', 'o', 't'], 2: ['r']}`, which indicates that the letters that appear once are `'p'`, `'a'`, `'o'`, and `'t'`, and the letter than appears twice is `'r'`.\n",
        "\n",
        "The following function takes a dictionary and returns its inverse as a new dictionary."
      ]
    },
    {
      "cell_type": "code",
      "execution_count": null,
      "id": "d3607b8d",
      "metadata": {
        "id": "d3607b8d"
      },
      "outputs": [],
      "source": [
        "def invert_dict(d):\n",
        "    new = {}\n",
        "    for key, value in d.items():\n",
        "        if value not in new:\n",
        "            new[value] = [key]\n",
        "        else:\n",
        "            new[value].append(key)\n",
        "    return new"
      ]
    },
    {
      "cell_type": "markdown",
      "id": "ca5fa025",
      "metadata": {
        "id": "ca5fa025"
      },
      "source": [
        "The `for` statement loops through the keys and values in `d`.\n",
        "If the value is not already in the new dictionary, it is added and associated with a list that contains a single element.\n",
        "Otherwise it is appended to the existing list.\n",
        "\n",
        "We can test it like this:"
      ]
    },
    {
      "cell_type": "code",
      "execution_count": null,
      "id": "692d9cf8",
      "metadata": {
        "id": "692d9cf8"
      },
      "outputs": [],
      "source": [
        "invert_dict(d)"
      ]
    },
    {
      "cell_type": "markdown",
      "id": "4cfb1693",
      "metadata": {
        "id": "4cfb1693"
      },
      "source": [
        "And we get the result we expected.\n",
        "\n",
        "This is the first example we've seen where the values in the dictionary are lists.\n",
        "We will see more!"
      ]
    },
    {
      "cell_type": "markdown",
      "id": "6d138cd7",
      "metadata": {
        "tags": [],
        "id": "6d138cd7"
      },
      "source": [
        "## Debugging\n",
        "\n",
        "Lists, dictionaries and tuples are **data structures**.\n",
        "In this chapter we are starting to see compound data structures, like lists of tuples, or dictionaries that contain tuples as keys and lists as values.\n",
        "Compound data structures are useful, but they are prone to errors caused when a data structure has the wrong type, size, or structure.\n",
        "For example, if a function expects a list if integers and you give it a plain old integer\n",
        "(not in a list), it probably won't work.\n",
        "\n",
        "To help debug these kinds of errors, I wrote a module called `structshape` that provides a function, also called `structshape`, that takes any kind of data structure as an argument and returns a string that summarizes its structure.\n",
        "You can download it from\n",
        "<https://raw.githubusercontent.com/AllenDowney/ThinkPython/v3/structshape.py>."
      ]
    },
    {
      "cell_type": "code",
      "execution_count": null,
      "id": "e9f03e91",
      "metadata": {
        "tags": [],
        "id": "e9f03e91"
      },
      "outputs": [],
      "source": [
        "download('https://raw.githubusercontent.com/AllenDowney/ThinkPython/v3/structshape.py');"
      ]
    },
    {
      "cell_type": "markdown",
      "id": "646f4d55",
      "metadata": {
        "id": "646f4d55"
      },
      "source": [
        "We can import it like this."
      ]
    },
    {
      "cell_type": "code",
      "execution_count": null,
      "id": "90ab624a",
      "metadata": {
        "id": "90ab624a"
      },
      "outputs": [],
      "source": [
        "from structshape import structshape"
      ]
    },
    {
      "cell_type": "markdown",
      "id": "86cc6ccc",
      "metadata": {
        "id": "86cc6ccc"
      },
      "source": [
        "Here's an example with a simple list."
      ]
    },
    {
      "cell_type": "code",
      "execution_count": null,
      "id": "6794330f",
      "metadata": {
        "id": "6794330f"
      },
      "outputs": [],
      "source": [
        "t = [1, 2, 3]\n",
        "structshape(t)"
      ]
    },
    {
      "cell_type": "markdown",
      "id": "9de4f6ec",
      "metadata": {
        "id": "9de4f6ec"
      },
      "source": [
        "Here's a list of lists."
      ]
    },
    {
      "cell_type": "code",
      "execution_count": null,
      "id": "54cd185b",
      "metadata": {
        "id": "54cd185b"
      },
      "outputs": [],
      "source": [
        "t2 = [[1,2], [3,4], [5,6]]\n",
        "structshape(t2)"
      ]
    },
    {
      "cell_type": "markdown",
      "id": "aced9984",
      "metadata": {
        "id": "aced9984"
      },
      "source": [
        "If the elements of the list are not the same type, `structshape` groups\n",
        "them by type."
      ]
    },
    {
      "cell_type": "code",
      "execution_count": null,
      "id": "04028afd",
      "metadata": {
        "id": "04028afd"
      },
      "outputs": [],
      "source": [
        "t3 = [1, 2, 3, 4.0, '5', '6', [7], [8], 9]\n",
        "structshape(t3)"
      ]
    },
    {
      "cell_type": "markdown",
      "id": "f63ff690",
      "metadata": {
        "id": "f63ff690"
      },
      "source": [
        "Here's a list of tuples."
      ]
    },
    {
      "cell_type": "code",
      "execution_count": null,
      "id": "b5d45c88",
      "metadata": {
        "id": "b5d45c88"
      },
      "outputs": [],
      "source": [
        "s = 'abc'\n",
        "lt = list(zip(t, s))\n",
        "structshape(lt)"
      ]
    },
    {
      "cell_type": "markdown",
      "id": "c9ec67eb",
      "metadata": {
        "id": "c9ec67eb"
      },
      "source": [
        "And here's a dictionary with three items that map integers to strings."
      ]
    },
    {
      "cell_type": "code",
      "execution_count": null,
      "id": "15131907",
      "metadata": {
        "id": "15131907"
      },
      "outputs": [],
      "source": [
        "d = dict(lt)\n",
        "structshape(d)"
      ]
    },
    {
      "cell_type": "markdown",
      "id": "f29bb82b",
      "metadata": {
        "id": "f29bb82b"
      },
      "source": [
        "If you are having trouble keeping track of your data structures,\n",
        "`structshape` can help."
      ]
    },
    {
      "cell_type": "markdown",
      "id": "79d93082",
      "metadata": {
        "id": "79d93082"
      },
      "source": [
        "## Glossary\n",
        "\n",
        "**pack:**\n",
        "Collect multiple arguments into a tuple.\n",
        "\n",
        "**unpack:**\n",
        "Treat a tuple (or other sequence) as multiple arguments.\n",
        "\n",
        "**zip object:**\n",
        "The result of calling the built-in function `zip`, can be used to loop through a sequence of tuples.\n",
        "\n",
        "**enumerate object:**\n",
        "The result of calling the built-in function `enumerate`, can be used to loop through a sequence of tuples.\n",
        "\n",
        "**sort key:**\n",
        "A value, or function that computes a value, used to sort the elements of a collection.\n",
        "\n",
        "**data structure:**\n",
        "A collection of values, organized to perform certain operations efficiently."
      ]
    },
    {
      "cell_type": "markdown",
      "id": "1471b3c0",
      "metadata": {
        "id": "1471b3c0"
      },
      "source": [
        "## Exercises"
      ]
    },
    {
      "cell_type": "code",
      "execution_count": null,
      "id": "c65d68d2",
      "metadata": {
        "tags": [],
        "id": "c65d68d2"
      },
      "outputs": [],
      "source": [
        "# This cell tells Jupyter to provide detailed debugging information\n",
        "# when a runtime error occurs. Run it before working on the exercises.\n",
        "\n",
        "%xmode Verbose"
      ]
    },
    {
      "cell_type": "markdown",
      "id": "97a0352d",
      "metadata": {
        "id": "97a0352d"
      },
      "source": [
        "### Ask a virtual assistant\n",
        "\n",
        "The exercises in this chapter might be more difficult than exercises in previous chapters, so I encourage you to get help from a virtual assistant.\n",
        "When you pose more difficult questions, you might find that the answers are not correct on the first attempt, so this is a chance to practice crafting good prompts and following up with good refinements.\n",
        "\n",
        "One strategy you might consider is to break a big problems into pieces that can be solved with simple functions.\n",
        "Ask the virtual assistant to write the functions and test them.\n",
        "Then, once they are working, ask for a solution to the original problem.\n",
        "\n",
        "For some of the exercises below, I make suggestions about which data structures and algorithms to use.\n",
        "You might find these suggestions useful when you work on the problems, but they are also good prompts to pass along to a virtual assistant."
      ]
    },
    {
      "cell_type": "markdown",
      "id": "f90e011f",
      "metadata": {
        "id": "f90e011f"
      },
      "source": [
        "### Exercise\n",
        "\n",
        "In this chapter I said that tuples can be used as keys in dictionaries because they are hashable, and they are hashable because they are immutable.\n",
        "But that is not always true.\n",
        "\n",
        "If a tuple contains a mutable value, like a list or a dictionary, the tuple is no longer hashable because it contains elements that are not hashable. As an example, here's a tuple that contains two lists of integers."
      ]
    },
    {
      "cell_type": "code",
      "execution_count": null,
      "id": "4416fe4a",
      "metadata": {
        "id": "4416fe4a"
      },
      "outputs": [],
      "source": [
        "list0 = [1, 2, 3]\n",
        "list1 = [4, 5]\n",
        "\n",
        "t = (list0, list1)\n",
        "t"
      ]
    },
    {
      "cell_type": "markdown",
      "id": "02799077",
      "metadata": {
        "id": "02799077"
      },
      "source": [
        "Write a line of code that appends the value `6` to the end of the second list in `t`. If you display `t`, the result should be `([1, 2, 3], [4, 5, 6])`."
      ]
    },
    {
      "cell_type": "code",
      "execution_count": null,
      "id": "e6eda0e4",
      "metadata": {
        "tags": [],
        "id": "e6eda0e4"
      },
      "outputs": [],
      "source": [
        "# Solution goes here"
      ]
    },
    {
      "cell_type": "markdown",
      "id": "644b1dfb",
      "metadata": {
        "id": "644b1dfb"
      },
      "source": [
        "Try to create a dictionary that maps from `t` to a string, and confirm that you get a `TypeError`."
      ]
    },
    {
      "cell_type": "code",
      "execution_count": null,
      "id": "4fae1acc",
      "metadata": {
        "tags": [],
        "id": "4fae1acc"
      },
      "outputs": [],
      "source": [
        "# Solution goes here"
      ]
    },
    {
      "cell_type": "markdown",
      "id": "fb77a352",
      "metadata": {
        "id": "fb77a352"
      },
      "source": [
        "For more on this topic, ask a virtual assistant, \"Are Python tuples always hashable?\""
      ]
    },
    {
      "cell_type": "markdown",
      "id": "bdfc8c27",
      "metadata": {
        "tags": [],
        "id": "bdfc8c27"
      },
      "source": [
        "### Exercise\n",
        "\n",
        "In this chapter we made a dictionary that maps from each letter to its index in the alphabet."
      ]
    },
    {
      "cell_type": "code",
      "execution_count": null,
      "id": "855c7ed2",
      "metadata": {
        "id": "855c7ed2"
      },
      "outputs": [],
      "source": [
        "letters = 'abcdefghijklmnopqrstuvwxyz'\n",
        "numbers = range(len(letters))\n",
        "letter_map = dict(zip(letters, numbers))"
      ]
    },
    {
      "cell_type": "markdown",
      "id": "a8cd720b",
      "metadata": {
        "id": "a8cd720b"
      },
      "source": [
        "For example, the index of `'a'` is `0`."
      ]
    },
    {
      "cell_type": "code",
      "execution_count": null,
      "id": "3c921f68",
      "metadata": {
        "id": "3c921f68"
      },
      "outputs": [],
      "source": [
        "letter_map['a']"
      ]
    },
    {
      "cell_type": "markdown",
      "id": "a04c25db",
      "metadata": {
        "id": "a04c25db"
      },
      "source": [
        "To go in the other direction, we can use list indexing.\n",
        "For example, the letter at index `1` is `'b'`."
      ]
    },
    {
      "cell_type": "code",
      "execution_count": null,
      "id": "b029b0da",
      "metadata": {
        "id": "b029b0da"
      },
      "outputs": [],
      "source": [
        "letters[1]"
      ]
    },
    {
      "cell_type": "markdown",
      "id": "165ab770",
      "metadata": {
        "id": "165ab770"
      },
      "source": [
        "We can use `letter_map` and `letters` to encode and decode words using a Caesar cipher.\n",
        "\n",
        "A Caesar cipher is a weak form of encryption that involves shifting each letter\n",
        "by a fixed number of places in the alphabet, wrapping around to the beginning if necessary. For example, `'a'` shifted by 2 is `'c'` and `'z'` shifted by 1 is `'a'`.\n",
        "\n",
        "Write a function called `shift_word` that takes as parameters a string and an integer, and returns a new string that contains the letters from the string shifted by the given number of places.\n",
        "\n",
        "To test your function, confirm that \"cheer\" shifted by 7 is \"jolly\" and \"melon\" shifted by 16 is \"cubed\".\n",
        "\n",
        "Hints: Use the modulus operator to wrap around from `'z'` back to `'a'`.\n",
        "Loop through the letters of the word, shift each one, and append the result to a list of letters.\n",
        "Then use `join` to concatenate the letters into a string."
      ]
    },
    {
      "cell_type": "markdown",
      "id": "e7478b18",
      "metadata": {
        "tags": [],
        "id": "e7478b18"
      },
      "source": [
        "You can use this outline to get started."
      ]
    },
    {
      "cell_type": "code",
      "execution_count": null,
      "id": "1cc07036",
      "metadata": {
        "tags": [],
        "id": "1cc07036"
      },
      "outputs": [],
      "source": [
        "def shift_word(word, n):\n",
        "    \"\"\"Shift the letters of `word` by `n` places.\n",
        "\n",
        "    >>> shift_word('cheer', 7)\n",
        "    'jolly'\n",
        "    >>> shift_word('melon', 16)\n",
        "    'cubed'\n",
        "    \"\"\"\n",
        "    return None"
      ]
    },
    {
      "cell_type": "code",
      "execution_count": null,
      "id": "96560a0e",
      "metadata": {
        "id": "96560a0e"
      },
      "outputs": [],
      "source": [
        "# Solution goes here"
      ]
    },
    {
      "cell_type": "code",
      "execution_count": null,
      "id": "c026c6d1",
      "metadata": {
        "tags": [],
        "id": "c026c6d1"
      },
      "outputs": [],
      "source": [
        "shift_word('cheer', 7)"
      ]
    },
    {
      "cell_type": "code",
      "execution_count": null,
      "id": "5814999d",
      "metadata": {
        "tags": [],
        "id": "5814999d"
      },
      "outputs": [],
      "source": [
        "shift_word('melon', 16)"
      ]
    },
    {
      "cell_type": "markdown",
      "id": "39a67af9",
      "metadata": {
        "tags": [],
        "id": "39a67af9"
      },
      "source": [
        "You can use `doctest` to test your function."
      ]
    },
    {
      "cell_type": "code",
      "execution_count": null,
      "id": "9464d140",
      "metadata": {
        "tags": [],
        "id": "9464d140"
      },
      "outputs": [],
      "source": [
        "from doctest import run_docstring_examples\n",
        "\n",
        "def run_doctests(func):\n",
        "    run_docstring_examples(func, globals(), name=func.__name__)\n",
        "\n",
        "run_doctests(shift_word)"
      ]
    },
    {
      "cell_type": "markdown",
      "id": "779f13af",
      "metadata": {
        "id": "779f13af"
      },
      "source": [
        "### Exercise\n",
        "\n",
        "Write a function called `most_frequent_letters` that takes a string and prints the letters in decreasing order of frequency.\n",
        "\n",
        "To get the items in decreasing order, you can use `reversed` along with `sorted` or you can pass `reverse=True` as a keyword parameter to `sorted`."
      ]
    },
    {
      "cell_type": "markdown",
      "id": "d71923e6",
      "metadata": {
        "tags": [],
        "id": "d71923e6"
      },
      "source": [
        "You can use this outline of the function to get started."
      ]
    },
    {
      "cell_type": "code",
      "execution_count": null,
      "id": "4309d0b5",
      "metadata": {
        "tags": [],
        "id": "4309d0b5"
      },
      "outputs": [],
      "source": [
        "def most_frequent_letters(string):\n",
        "    return None"
      ]
    },
    {
      "cell_type": "code",
      "execution_count": null,
      "id": "52228828",
      "metadata": {
        "id": "52228828"
      },
      "outputs": [],
      "source": [
        "# Solution goes here"
      ]
    },
    {
      "cell_type": "markdown",
      "id": "c6354c44",
      "metadata": {
        "tags": [],
        "id": "c6354c44"
      },
      "source": [
        "And this example to test your function."
      ]
    },
    {
      "cell_type": "code",
      "execution_count": null,
      "id": "3bf2aa0d",
      "metadata": {
        "tags": [],
        "id": "3bf2aa0d"
      },
      "outputs": [],
      "source": [
        "most_frequent_letters('brontosaurus')"
      ]
    },
    {
      "cell_type": "markdown",
      "id": "2ca1e337",
      "metadata": {
        "tags": [],
        "id": "2ca1e337"
      },
      "source": [
        "Once your function is working, you can use the following code to print the most common letters in *Dracula*, which we can download from Project Gutenberg."
      ]
    },
    {
      "cell_type": "code",
      "execution_count": null,
      "id": "e4fbf5d9",
      "metadata": {
        "tags": [],
        "id": "e4fbf5d9"
      },
      "outputs": [],
      "source": [
        "download('https://www.gutenberg.org/cache/epub/345/pg345.txt');"
      ]
    },
    {
      "cell_type": "code",
      "execution_count": null,
      "id": "817ec689",
      "metadata": {
        "tags": [],
        "id": "817ec689"
      },
      "outputs": [],
      "source": [
        "string = open('pg345.txt').read()\n",
        "most_frequent_letters(string)"
      ]
    },
    {
      "cell_type": "markdown",
      "id": "211c09c9",
      "metadata": {
        "tags": [],
        "id": "211c09c9"
      },
      "source": [
        "According to Zim's \"Codes and Secret Writing\", the sequence of letters in decreasing order of frequency in English starts with \"ETAONRISH\".\n",
        "How does this sequence compare with the results from *Dracula*?"
      ]
    },
    {
      "cell_type": "markdown",
      "id": "cbe9933e",
      "metadata": {
        "id": "cbe9933e"
      },
      "source": [
        "### Exercise\n",
        "\n",
        "In a previous exercise, we tested whether two strings are anagrams by sorting the letters in both words and checking whether the sorted letters are the same.\n",
        "Now let's make the problem a little more challenging.\n",
        "\n",
        "We'll write a program that takes a list of words and prints all the sets of words that are anagrams.\n",
        "Here is an example of what the output might look like:\n",
        "\n",
        "    ['deltas', 'desalt', 'lasted', 'salted', 'slated', 'staled']\n",
        "    ['retainers', 'ternaries']\n",
        "    ['generating', 'greatening']\n",
        "    ['resmelts', 'smelters', 'termless']\n",
        "\n",
        "Hint: For each word in the word list, sort the letters and join them back into a string. Make a dictionary that maps from this sorted string to a list of words that are anagrams of it."
      ]
    },
    {
      "cell_type": "markdown",
      "id": "4b9ed2a8",
      "metadata": {
        "tags": [],
        "id": "4b9ed2a8"
      },
      "source": [
        "The following cells download `words.txt` and read the words into a list."
      ]
    },
    {
      "cell_type": "code",
      "execution_count": null,
      "id": "941719c1",
      "metadata": {
        "tags": [],
        "id": "941719c1"
      },
      "outputs": [],
      "source": [
        "download('https://raw.githubusercontent.com/AllenDowney/ThinkPython/v3/words.txt');"
      ]
    },
    {
      "cell_type": "code",
      "execution_count": null,
      "id": "d2ec641b",
      "metadata": {
        "tags": [],
        "id": "d2ec641b"
      },
      "outputs": [],
      "source": [
        "word_list = open('words.txt').read().split()"
      ]
    },
    {
      "cell_type": "markdown",
      "id": "e4cc2c8c",
      "metadata": {
        "tags": [],
        "id": "e4cc2c8c"
      },
      "source": [
        "Here's the `sort_word` function we've used before."
      ]
    },
    {
      "cell_type": "code",
      "execution_count": null,
      "id": "7ae29f73",
      "metadata": {
        "tags": [],
        "id": "7ae29f73"
      },
      "outputs": [],
      "source": [
        "def sort_word(word):\n",
        "    return ''.join(sorted(word))"
      ]
    },
    {
      "cell_type": "code",
      "execution_count": null,
      "id": "013819a5",
      "metadata": {
        "id": "013819a5"
      },
      "outputs": [],
      "source": [
        "# Solution goes here"
      ]
    },
    {
      "cell_type": "markdown",
      "id": "70faa9f5",
      "metadata": {
        "tags": [],
        "id": "70faa9f5"
      },
      "source": [
        "To find the longest list of anagrams, you can use the following function, which takes a key-value pair where the key is a string and the value is a list of words.\n",
        "It returns the length of the list."
      ]
    },
    {
      "cell_type": "code",
      "execution_count": null,
      "id": "fbf9ede3",
      "metadata": {
        "tags": [],
        "id": "fbf9ede3"
      },
      "outputs": [],
      "source": [
        "def value_length(pair):\n",
        "    key, value = pair\n",
        "    return len(value)"
      ]
    },
    {
      "cell_type": "markdown",
      "id": "dcda6e28",
      "metadata": {
        "tags": [],
        "id": "dcda6e28"
      },
      "source": [
        "We can use this function as a sort key to find the longest lists of anagrams."
      ]
    },
    {
      "cell_type": "code",
      "execution_count": null,
      "id": "55435050",
      "metadata": {
        "tags": [],
        "id": "55435050"
      },
      "outputs": [],
      "source": [
        "anagram_items = sorted(anagram_dict.items(), key=value_length)\n",
        "for key, value in anagram_items[-10:]:\n",
        "    print(value)"
      ]
    },
    {
      "cell_type": "markdown",
      "id": "0b6d5add",
      "metadata": {
        "tags": [],
        "id": "0b6d5add"
      },
      "source": [
        "If you want to know the longest words that have anagrams, you can use the following loop to print some of them."
      ]
    },
    {
      "cell_type": "code",
      "execution_count": null,
      "id": "6a9320c2",
      "metadata": {
        "tags": [],
        "id": "6a9320c2"
      },
      "outputs": [],
      "source": [
        "longest = 7\n",
        "\n",
        "for key, value in anagram_items:\n",
        "    if len(value) > 1:\n",
        "        word_len = len(value[0])\n",
        "        if word_len > longest:\n",
        "            longest = word_len\n",
        "            print(value)"
      ]
    },
    {
      "cell_type": "markdown",
      "id": "4fbe939e",
      "metadata": {
        "id": "4fbe939e"
      },
      "source": [
        "### Exercise\n",
        "\n",
        "Write a function called `word_distance` that takes two words with the same length and returns the number of places where the two words differ.\n",
        "\n",
        "Hint: Use `zip` to loop through the corresponding letters of the words."
      ]
    },
    {
      "cell_type": "markdown",
      "id": "8b48dbdc",
      "metadata": {
        "tags": [],
        "id": "8b48dbdc"
      },
      "source": [
        "Here's an outline of the function with doctests you can use to check your function."
      ]
    },
    {
      "cell_type": "code",
      "execution_count": null,
      "id": "3d5a75f8",
      "metadata": {
        "tags": [],
        "id": "3d5a75f8"
      },
      "outputs": [],
      "source": [
        "def word_distance(word1, word2):\n",
        "    \"\"\"Computes the number of places where two word differ.\n",
        "\n",
        "    >>> word_distance(\"hello\", \"hxllo\")\n",
        "    1\n",
        "    >>> word_distance(\"ample\", \"apply\")\n",
        "    2\n",
        "    >>> word_distance(\"kitten\", \"mutton\")\n",
        "    3\n",
        "    \"\"\"\n",
        "    return None"
      ]
    },
    {
      "cell_type": "code",
      "execution_count": null,
      "id": "a9816dde",
      "metadata": {
        "id": "a9816dde"
      },
      "outputs": [],
      "source": [
        "# Solution goes here"
      ]
    },
    {
      "cell_type": "code",
      "execution_count": null,
      "id": "753a23c1",
      "metadata": {
        "tags": [],
        "id": "753a23c1"
      },
      "outputs": [],
      "source": [
        "from doctest import run_docstring_examples\n",
        "\n",
        "def run_doctests(func):\n",
        "    run_docstring_examples(func, globals(), name=func.__name__)\n",
        "\n",
        "run_doctests(word_distance)"
      ]
    },
    {
      "cell_type": "markdown",
      "id": "066eec59",
      "metadata": {
        "id": "066eec59"
      },
      "source": [
        "### Exercise\n",
        "\n",
        "\"Metathesis\" is the transposition of letters in a word.\n",
        "Two words form a \"metathesis pair\" if you can transform one into the other by swapping two letters, like `converse` and `conserve`.\n",
        "Write a program that finds all of the metathesis pairs in the word list.\n",
        "\n",
        "Hint: The words in a metathesis pair must be anagrams of each other.\n",
        "\n",
        "Credit: This exercise is inspired by an example at <http://puzzlers.org>."
      ]
    },
    {
      "cell_type": "code",
      "execution_count": null,
      "id": "57649075",
      "metadata": {
        "id": "57649075"
      },
      "outputs": [],
      "source": [
        "# Solution goes here"
      ]
    },
    {
      "cell_type": "markdown",
      "id": "6a028806",
      "metadata": {
        "tags": [],
        "id": "6a028806"
      },
      "source": [
        "### Exercise\n",
        "\n",
        "This is a bonus exercise that is not in the book.\n",
        "It is more challenging than the other exercises in this chapter, so you might want to ask a virtual assistant for help, or come back to it after you've read a few more chapters.\n",
        "\n",
        "Here's another Car Talk Puzzler\n",
        "(<http://www.cartalk.com/content/puzzlers>):\n",
        "\n",
        "> What is the longest English word, that remains a valid English word,\n",
        "> as you remove its letters one at a time?\n",
        ">\n",
        "> Now, letters can be removed from either end, or the middle, but you\n",
        "> can't rearrange any of the letters. Every time you drop a letter, you\n",
        "> wind up with another English word. If you do that, you're eventually\n",
        "> going to wind up with one letter and that too is going to be an\n",
        "> English word---one that's found in the dictionary. I want to know\n",
        "> what's the longest word and how many letters does it have?\n",
        ">\n",
        "> I'm going to give you a little modest example: Sprite. Ok? You start\n",
        "> off with sprite, you take a letter off, one from the interior of the\n",
        "> word, take the r away, and we're left with the word spite, then we\n",
        "> take the e off the end, we're left with spit, we take the s off, we're\n",
        "> left with pit, it, and I.\n",
        "\n",
        "Write a program to find all words that can be reduced in this way, and\n",
        "then find the longest one.\n",
        "\n",
        "This exercise is a little more challenging than most, so here are some\n",
        "suggestions:\n",
        "\n",
        "1.  You might want to write a function that takes a word and computes a\n",
        "    list of all the words that can be formed by removing one letter.\n",
        "    These are the \"children\" of the word.\n",
        "\n",
        "2.  Recursively, a word is reducible if any of its children are\n",
        "    reducible. As a base case, you can consider the empty string\n",
        "    reducible.\n",
        "\n",
        "3.  The word list we've been using doesn't contain single letter\n",
        "    words. So you might have to add \"I\" and \"a\".\n",
        "\n",
        "4.  To improve the performance of your program, you might want to\n",
        "    memoize the words that are known to be reducible."
      ]
    },
    {
      "cell_type": "code",
      "execution_count": null,
      "id": "c19bf833",
      "metadata": {
        "id": "c19bf833"
      },
      "outputs": [],
      "source": [
        "# Solution goes here"
      ]
    },
    {
      "cell_type": "code",
      "execution_count": null,
      "id": "2d9764d6",
      "metadata": {
        "id": "2d9764d6"
      },
      "outputs": [],
      "source": [
        "# Solution goes here"
      ]
    },
    {
      "cell_type": "code",
      "execution_count": null,
      "id": "5e4f5d8e",
      "metadata": {
        "id": "5e4f5d8e"
      },
      "outputs": [],
      "source": [
        "# Solution goes here"
      ]
    },
    {
      "cell_type": "code",
      "execution_count": null,
      "id": "27d311dd",
      "metadata": {
        "id": "27d311dd"
      },
      "outputs": [],
      "source": [
        "# Solution goes here"
      ]
    },
    {
      "cell_type": "code",
      "execution_count": null,
      "id": "68c27c7e",
      "metadata": {
        "id": "68c27c7e"
      },
      "outputs": [],
      "source": [
        "# Solution goes here"
      ]
    },
    {
      "cell_type": "code",
      "execution_count": null,
      "id": "a34c2014",
      "metadata": {
        "id": "a34c2014"
      },
      "outputs": [],
      "source": []
    },
    {
      "cell_type": "markdown",
      "id": "a7f4edf8",
      "metadata": {
        "tags": [],
        "id": "a7f4edf8"
      },
      "source": [
        "[Think Python: 3rd Edition](https://allendowney.github.io/ThinkPython/index.html)\n",
        "\n",
        "Copyright 2024 [Allen B. Downey](https://allendowney.com)\n",
        "\n",
        "Code license: [MIT License](https://mit-license.org/)\n",
        "\n",
        "Text license: [Creative Commons Attribution-NonCommercial-ShareAlike 4.0 International](https://creativecommons.org/licenses/by-nc-sa/4.0/)"
      ]
    }
  ],
  "metadata": {
    "celltoolbar": "Tags",
    "kernelspec": {
      "display_name": "Python 3 (ipykernel)",
      "language": "python",
      "name": "python3"
    },
    "language_info": {
      "codemirror_mode": {
        "name": "ipython",
        "version": 3
      },
      "file_extension": ".py",
      "mimetype": "text/x-python",
      "name": "python",
      "nbconvert_exporter": "python",
      "pygments_lexer": "ipython3",
      "version": "3.10.11"
    },
    "colab": {
      "provenance": []
    }
  },
  "nbformat": 4,
  "nbformat_minor": 5
}